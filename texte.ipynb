{
 "cells": [
  {
   "cell_type": "markdown",
   "metadata": {},
   "source": [
    "# tkineter"
   ]
  },
  {
   "cell_type": "markdown",
   "metadata": {},
   "source": [
    "- a partir do min 20:00, ele mostra como alterar o layout com outra biblioteca\n",
    "\n",
    "- 29:30 ele mostra o tk.Text\n",
    "\n",
    "- parei em 46:00"
   ]
  }
 ],
 "metadata": {
  "language_info": {
   "name": "python"
  },
  "orig_nbformat": 4
 },
 "nbformat": 4,
 "nbformat_minor": 2
}
